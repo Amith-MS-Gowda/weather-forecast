{
 "cells": [
  {
   "cell_type": "code",
   "execution_count": null,
   "id": "92ccf4607b767d09",
   "metadata": {
    "is_executing": true
   },
   "outputs": [
    {
     "name": "stdout",
     "output_type": "stream",
     "text": [
      "Enter the city: mysore\n",
      "Enter your WhatsApp number (with country code, e.g., +1234567890): +916361101037\n",
      "Sending WhatsApp alert: WEATHER REPORT\n",
      "Weather in mysore: Mostly Sunny\n",
      " Temperature: 32°C\n"
     ]
    }
   ],
   "source": [
    "import requests\n",
    "from bs4 import BeautifulSoup\n",
    "from pywhatkit import sendwhatmsg_instantly\n",
    "#import pyautogui\n",
    "import time\n",
    "\n",
    "def get_weather(city):\n",
    "    url = f\"https://www.google.com/search?q=weather+{city}\"\n",
    "    response = requests.get(url)\n",
    "    soup = BeautifulSoup(response.content, 'html.parser')\n",
    "\n",
    "    temperature = soup.find('div', attrs={'class': 'BNeawe iBp4i AP7Wnd'}).text\n",
    "    time_sky = soup.find('div', attrs={'class': 'BNeawe tAd8D AP7Wnd'}).text\n",
    "    sky = time_sky.split('\\n')[1]\n",
    "\n",
    "    return temperature, sky\n",
    "\n",
    "def send_whatsapp_message(to_phone, message):\n",
    "    sendwhatmsg_instantly(to_phone, message)\n",
    "\n",
    "    # Adjust these coordinates based on your screen\n",
    "    pyautogui.click(1050, 950)\n",
    "    \n",
    "    # Adjust this delay based on your system's response time\n",
    "    time.sleep(10)\n",
    "\n",
    "def main():\n",
    "    city = input(\"Enter the city: \")\n",
    "    to_phone = input(\"Enter your WhatsApp number (with country code, e.g., +1234567890): \")\n",
    "\n",
    "    try:\n",
    "        temperature, sky = get_weather(city)\n",
    "        message_body = f\"WEATHER REPORT\\nWeather in {city}: {sky}\\n Temperature: {temperature}\"\n",
    "        print(\"Sending WhatsApp alert:\", message_body)\n",
    "        send_whatsapp_message(to_phone, message_body)\n",
    "        \n",
    "    except Exception as e:\n",
    "        print(f\"An error occurred: {e}\")\n",
    "\n",
    "if __name__ == \"__main__\":\n",
    "    main()"
   ]
  },
  {
   "cell_type": "code",
   "execution_count": null,
   "id": "eb7a1000d38f2f73",
   "metadata": {},
   "outputs": [],
   "source": [
    " "
   ]
  }
 ],
 "metadata": {
  "kernelspec": {
   "display_name": "Python 3 (ipykernel)",
   "language": "python",
   "name": "python3"
  },
  "language_info": {
   "codemirror_mode": {
    "name": "ipython",
    "version": 3
   },
   "file_extension": ".py",
   "mimetype": "text/x-python",
   "name": "python",
   "nbconvert_exporter": "python",
   "pygments_lexer": "ipython3",
   "version": "3.11.5"
  }
 },
 "nbformat": 4,
 "nbformat_minor": 5
}
